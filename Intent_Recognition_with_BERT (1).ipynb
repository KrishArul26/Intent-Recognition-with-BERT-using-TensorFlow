{
  "nbformat": 4,
  "nbformat_minor": 0,
  "metadata": {
    "colab": {
      "name": "Intent_Recognition_with_BERT.ipynb",
      "provenance": [],
      "collapsed_sections": []
    },
    "kernelspec": {
      "name": "python3",
      "display_name": "Python 3"
    },
    "language_info": {
      "name": "python"
    },
    "accelerator": "GPU"
  },
  "cells": [
    {
      "cell_type": "markdown",
      "metadata": {
        "id": "EU6yhRmi42d2"
      },
      "source": [
        "### **Intent Recognition with BERT using TensorFlow**"
      ]
    },
    {
      "cell_type": "markdown",
      "metadata": {
        "id": "k-QUr30W6BZJ"
      },
      "source": [
        "In this notebook, we will use pre-trained deep learning model to process some text. We will then use the output of that model to classify the intent. And we will calssify each sentence as intent type using Our tune -Model.\n",
        "\n",
        "#### After that I'm going to  use ktrain library to do same task. Finally, We are going to compare the both  accuracy."
      ]
    },
    {
      "cell_type": "markdown",
      "metadata": {
        "id": "xCq8ZwrX4_fq"
      },
      "source": [
        "**Introduction**\n",
        "Recognizing intent (IR) from text is very useful these days. Usually, you get a short text (sentence or two) and have to classify it into one (or multiple) categories."
      ]
    },
    {
      "cell_type": "markdown",
      "metadata": {
        "id": "pzmFt-IbERex"
      },
      "source": [
        "### DATA\n",
        "The data contains various user queries categorized into seven intents. It is hosted on Github https://github.com/sonos/nlu-benchmark/tree/master/2017-06-custom-intent-enginesHub and is first presented in this paperhttps://arxiv.org/abs/1805.10190."
      ]
    },
    {
      "cell_type": "markdown",
      "metadata": {
        "id": "hMVIXMZR9iYt"
      },
      "source": [
        "### **BERT**\n",
        "**Bidirectional Encoder Representations from Transformers (BERT)** is a technique for NLP (Natural Language Processing) pre-training developed by Google. BERT was created and published in 2018 by Jacob Devlin and his colleagues from Google. Google is leveraging BERT to better understand user searches."
      ]
    },
    {
      "cell_type": "markdown",
      "metadata": {
        "id": "Ubk3QrNd-BuG"
      },
      "source": [
        "**BERT** is designed to pretrain deep bidirectional representations from unlabeled text by jointly conditioning on both left and right context in all layers. As a result, the pre-trained BERT model can be finetuned with just one additional output layer to create state-of-the-art models for a wide range of tasks, such as question answering and language inference, without substantial taskspecific architecture modifications."
      ]
    },
    {
      "cell_type": "markdown",
      "metadata": {
        "id": "gciuLDppJ5iO"
      },
      "source": [
        "## **Why BERT**"
      ]
    },
    {
      "cell_type": "markdown",
      "metadata": {
        "id": "7oyBSwLKKEOB"
      },
      "source": [
        "1. **Accurate**\n",
        "\n",
        "2. **Can be used for wide variety of task**\n",
        "\n",
        "3. **Easy to use**\n",
        "\n",
        "4. **It is game changer in NLP**"
      ]
    },
    {
      "cell_type": "markdown",
      "metadata": {
        "id": "ms3FMzpJFlbX"
      },
      "source": [
        "### **Objective**\n",
        "1. What is Bert\n",
        "2. What is ktrain Library\n",
        "3. Downold Pre-Trained bert\n",
        "4. Unzip Pre-Trained Bert\n",
        "5. Pre-Processing\n",
        "6. Develop Model\n",
        "7. Compile The Model\n",
        "8. Model Evaluation\n",
        "9. Install ktrain\n",
        "10. develop model using ktrain\n",
        "11. find the Accuracy of each model\n",
        "12. comparison "
      ]
    },
    {
      "cell_type": "code",
      "metadata": {
        "colab": {
          "base_uri": "https://localhost:8080/"
        },
        "id": "4smJZzlh4nvr",
        "outputId": "d2411bd9-477d-43d0-9362-427cc91a16e3"
      },
      "source": [
        "from google.colab import drive\n",
        "drive.mount('/content/drive/')\n"
      ],
      "execution_count": 2,
      "outputs": [
        {
          "output_type": "stream",
          "text": [
            "Mounted at /content/drive/\n"
          ],
          "name": "stdout"
        }
      ]
    },
    {
      "cell_type": "markdown",
      "metadata": {
        "id": "bYxdyRIE_1g4"
      },
      "source": [
        "If you want to get more intiution please read this articale:http://jalammar.github.io/illustrated-bert/\n",
        "Visual Guide to Using BERT:\n",
        "http://jalammar.github.io/a-visual-guide-to-using-bert-for-the-first-time/"
      ]
    },
    {
      "cell_type": "code",
      "metadata": {
        "id": "_PLVRyKe6hte"
      },
      "source": [
        "\n",
        "import os\n",
        "import math\n",
        "import datetime\n",
        "\n",
        "import pandas as pd \n",
        "import numpy as np\n",
        "\n",
        "#Ploting usages\n",
        "import matplotlib.pyplot as plt\n",
        "from matplotlib.ticker import MaxNLocator\n",
        "from matplotlib import rc\n",
        "import seaborn as sns\n",
        "from pylab import rcParams\n",
        "%matplotlib inline\n",
        "\n",
        "#Tensorflow framework\n",
        "import tensorflow as tf\n",
        "from tensorflow import keras"
      ],
      "execution_count": 38,
      "outputs": []
    },
    {
      "cell_type": "markdown",
      "metadata": {
        "id": "CysqbfJ26NqA"
      },
      "source": [
        "**Downold the dataset and convert into csv fromat**"
      ]
    },
    {
      "cell_type": "code",
      "metadata": {
        "colab": {
          "base_uri": "https://localhost:8080/"
        },
        "id": "sE-kdlDB5u4B",
        "outputId": "a0efd1fb-2969-45fc-dd0f-990e23ad3a66"
      },
      "source": [
        "!gdown --id 1OlcvGWReJMuyYQuOZm149vHWwPtlboR6 --output train.csv\n",
        "!gdown --id 1Oi5cRlTybuIF2Fl5Bfsr-KkqrXrdt77w --output valid.csv\n",
        "!gdown --id 1ep9H6-HvhB4utJRLVcLzieWNUSG3P_uF --output test.csv"
      ],
      "execution_count": 5,
      "outputs": [
        {
          "output_type": "stream",
          "text": [
            "Downloading...\n",
            "From: https://drive.google.com/uc?id=1OlcvGWReJMuyYQuOZm149vHWwPtlboR6\n",
            "To: /content/train.csv\n",
            "100% 799k/799k [00:00<00:00, 12.6MB/s]\n",
            "Downloading...\n",
            "From: https://drive.google.com/uc?id=1Oi5cRlTybuIF2Fl5Bfsr-KkqrXrdt77w\n",
            "To: /content/valid.csv\n",
            "100% 43.3k/43.3k [00:00<00:00, 5.90MB/s]\n",
            "Downloading...\n",
            "From: https://drive.google.com/uc?id=1ep9H6-HvhB4utJRLVcLzieWNUSG3P_uF\n",
            "To: /content/test.csv\n",
            "100% 43.1k/43.1k [00:00<00:00, 6.23MB/s]\n"
          ],
          "name": "stdout"
        }
      ]
    },
    {
      "cell_type": "markdown",
      "metadata": {
        "id": "KVUTK7jU6aVD"
      },
      "source": [
        "**We will load the data into data frames**"
      ]
    },
    {
      "cell_type": "code",
      "metadata": {
        "id": "DSbr6KPf5u5u"
      },
      "source": [
        "train=pd.read_csv(\"train.csv\")\n",
        "validation=pd.read_csv(\"valid.csv\")\n",
        "test=pd.read_csv(\"test.csv\")"
      ],
      "execution_count": 6,
      "outputs": []
    },
    {
      "cell_type": "markdown",
      "metadata": {
        "id": "E34TI1Sh66x7"
      },
      "source": [
        "### **Merge train and validation dataset**"
      ]
    },
    {
      "cell_type": "code",
      "metadata": {
        "id": "BOD8K2275u80"
      },
      "source": [
        "train=train.append(validation).reset_index(drop=True)"
      ],
      "execution_count": 7,
      "outputs": []
    },
    {
      "cell_type": "code",
      "metadata": {
        "colab": {
          "base_uri": "https://localhost:8080/",
          "height": 195
        },
        "id": "a1Wmb_Qy-SXw",
        "outputId": "ecfa3d6c-a54f-4eaa-ea91-2ce18b6c05eb"
      },
      "source": [
        "train.head()"
      ],
      "execution_count": 8,
      "outputs": [
        {
          "output_type": "execute_result",
          "data": {
            "text/html": [
              "<div>\n",
              "<style scoped>\n",
              "    .dataframe tbody tr th:only-of-type {\n",
              "        vertical-align: middle;\n",
              "    }\n",
              "\n",
              "    .dataframe tbody tr th {\n",
              "        vertical-align: top;\n",
              "    }\n",
              "\n",
              "    .dataframe thead th {\n",
              "        text-align: right;\n",
              "    }\n",
              "</style>\n",
              "<table border=\"1\" class=\"dataframe\">\n",
              "  <thead>\n",
              "    <tr style=\"text-align: right;\">\n",
              "      <th></th>\n",
              "      <th>text</th>\n",
              "      <th>intent</th>\n",
              "    </tr>\n",
              "  </thead>\n",
              "  <tbody>\n",
              "    <tr>\n",
              "      <th>0</th>\n",
              "      <td>listen to westbam alumb allergic on google music</td>\n",
              "      <td>PlayMusic</td>\n",
              "    </tr>\n",
              "    <tr>\n",
              "      <th>1</th>\n",
              "      <td>add step to me to the 50 clásicos playlist</td>\n",
              "      <td>AddToPlaylist</td>\n",
              "    </tr>\n",
              "    <tr>\n",
              "      <th>2</th>\n",
              "      <td>i give this current textbook a rating value of...</td>\n",
              "      <td>RateBook</td>\n",
              "    </tr>\n",
              "    <tr>\n",
              "      <th>3</th>\n",
              "      <td>play the song little robin redbreast</td>\n",
              "      <td>PlayMusic</td>\n",
              "    </tr>\n",
              "    <tr>\n",
              "      <th>4</th>\n",
              "      <td>please add iris dement to my playlist this is ...</td>\n",
              "      <td>AddToPlaylist</td>\n",
              "    </tr>\n",
              "  </tbody>\n",
              "</table>\n",
              "</div>"
            ],
            "text/plain": [
              "                                                text         intent\n",
              "0   listen to westbam alumb allergic on google music      PlayMusic\n",
              "1         add step to me to the 50 clásicos playlist  AddToPlaylist\n",
              "2  i give this current textbook a rating value of...       RateBook\n",
              "3               play the song little robin redbreast      PlayMusic\n",
              "4  please add iris dement to my playlist this is ...  AddToPlaylist"
            ]
          },
          "metadata": {
            "tags": []
          },
          "execution_count": 8
        }
      ]
    },
    {
      "cell_type": "code",
      "metadata": {
        "colab": {
          "base_uri": "https://localhost:8080/"
        },
        "id": "GlL6uinW5u-b",
        "outputId": "80404f03-e02b-4ab9-874f-484234b832d1"
      },
      "source": [
        "print(\"shape of the train dataset is \"+str(train.shape))\n",
        "print(\"shape of the test dataset is \"+str(test.shape))"
      ],
      "execution_count": 9,
      "outputs": [
        {
          "output_type": "stream",
          "text": [
            "shape of the train dataset is (13784, 2)\n",
            "shape of the test dataset is (700, 2)\n"
          ],
          "name": "stdout"
        }
      ]
    },
    {
      "cell_type": "markdown",
      "metadata": {
        "id": "sAavNCVg89zp"
      },
      "source": [
        "### **Ploting the label Intent**\n",
        "\n"
      ]
    },
    {
      "cell_type": "code",
      "metadata": {
        "colab": {
          "base_uri": "https://localhost:8080/",
          "height": 650
        },
        "id": "rfKiaUSB5vCP",
        "outputId": "344ab3aa-ec72-4bbd-9235-64b5a6215323"
      },
      "source": [
        "sns.set(style='whitegrid', palette='spring', font_scale=1.2)\n",
        "rcParams['figure.figsize'] = 12, 8\n",
        "fig=sns.countplot(train.intent)\n",
        "plt.title(\"Number of texts per intent\")\n",
        "fig.set_xticklabels(fig.get_xticklabels(), rotation=30, horizontalalignment='right');\n",
        "\n"
      ],
      "execution_count": 10,
      "outputs": [
        {
          "output_type": "stream",
          "text": [
            "/usr/local/lib/python3.7/dist-packages/seaborn/_decorators.py:43: FutureWarning: Pass the following variable as a keyword arg: x. From version 0.12, the only valid positional argument will be `data`, and passing other arguments without an explicit keyword will result in an error or misinterpretation.\n",
            "  FutureWarning\n"
          ],
          "name": "stderr"
        },
        {
          "output_type": "display_data",
          "data": {
            "image/png": "[encoded data removed]",
            "text/plain": [
              "<Figure size 864x576 with 1 Axes>"
            ]
          },
          "metadata": {
            "tags": []
          }
        }
      ]
    },
    {
      "cell_type": "markdown",
      "metadata": {
        "id": "qASssPqn_dIA"
      },
      "source": [
        "### Implementation of Bert"
      ]
    },
    {
      "cell_type": "code",
      "metadata": {
        "id": "Vh7Y2la9_iyr"
      },
      "source": [
        "!pip install bert-for-tf2"
      ],
      "execution_count": null,
      "outputs": []
    },
    {
      "cell_type": "code",
      "metadata": {
        "id": "nCGeXU8U-NyG"
      },
      "source": [
        "import bert\n",
        "from bert import BertModelLayer\n",
        "from bert.loader import StockBertConfig, map_stock_config_to_params, load_stock_weights\n",
        "from bert.tokenization.bert_tokenization import FullTokenizer"
      ],
      "execution_count": 12,
      "outputs": []
    },
    {
      "cell_type": "markdown",
      "metadata": {
        "id": "Qr_1hea-AF-u"
      },
      "source": [
        "### **Downloading one of the simpler pre-trained models**"
      ]
    },
    {
      "cell_type": "code",
      "metadata": {
        "colab": {
          "base_uri": "https://localhost:8080/"
        },
        "id": "grQY7cOE-Nz5",
        "outputId": "44019b0b-8788-4632-e48f-abfa11bad70f"
      },
      "source": [
        "\n",
        "!wget https://storage.googleapis.com/bert_models/2018_10_18/uncased_L-12_H-768_A-12.zip"
      ],
      "execution_count": 14,
      "outputs": [
        {
          "output_type": "stream",
          "text": [
            "--2021-04-29 07:49:23--  https://storage.googleapis.com/bert_models/2018_10_18/uncased_L-12_H-768_A-12.zip\n",
            "Resolving storage.googleapis.com (storage.googleapis.com)... 142.250.73.208, 142.250.65.80, 142.250.73.240, ...\n",
            "Connecting to storage.googleapis.com (storage.googleapis.com)|142.250.73.208|:443... connected.\n",
            "HTTP request sent, awaiting response... 200 OK\n",
            "Length: 407727028 (389M) [application/zip]\n",
            "Saving to: ‘uncased_L-12_H-768_A-12.zip.1’\n",
            "\n",
            "uncased_L-12_H-768_ 100%[===================>] 388.84M   283MB/s    in 1.4s    \n",
            "\n",
            "2021-04-29 07:49:24 (283 MB/s) - ‘uncased_L-12_H-768_A-12.zip.1’ saved [407727028/407727028]\n",
            "\n"
          ],
          "name": "stdout"
        }
      ]
    },
    {
      "cell_type": "markdown",
      "metadata": {
        "id": "rw-OqYN-C3SM"
      },
      "source": [
        "### **Unzip Pre-Trained Model**"
      ]
    },
    {
      "cell_type": "code",
      "metadata": {
        "colab": {
          "base_uri": "https://localhost:8080/"
        },
        "id": "AVGdtolj-N3B",
        "outputId": "3ed89e5c-f12a-425d-830a-8a3ccf1f3b5e"
      },
      "source": [
        "!unzip uncased_L-12_H-768_A-12.zip"
      ],
      "execution_count": 15,
      "outputs": [
        {
          "output_type": "stream",
          "text": [
            "Archive:  uncased_L-12_H-768_A-12.zip\n",
            "   creating: uncased_L-12_H-768_A-12/\n",
            "  inflating: uncased_L-12_H-768_A-12/bert_model.ckpt.meta  \n",
            "  inflating: uncased_L-12_H-768_A-12/bert_model.ckpt.data-00000-of-00001  \n",
            "  inflating: uncased_L-12_H-768_A-12/vocab.txt  \n",
            "  inflating: uncased_L-12_H-768_A-12/bert_model.ckpt.index  \n",
            "  inflating: uncased_L-12_H-768_A-12/bert_config.json  \n"
          ],
          "name": "stdout"
        }
      ]
    },
    {
      "cell_type": "markdown",
      "metadata": {
        "id": "tztyC5BKD8Gt"
      },
      "source": [
        "### **Create newfolder in Google-Colab & Save pre-Trained model**"
      ]
    },
    {
      "cell_type": "code",
      "metadata": {
        "colab": {
          "base_uri": "https://localhost:8080/"
        },
        "id": "b_ykpYAY-N47",
        "outputId": "135d1940-092a-4a75-cc26-4ff7e6a3df4e"
      },
      "source": [
        "os.makedirs('model',exist_ok=True)\n",
        "!mv uncased_L-12_H-768_A-12/ model"
      ],
      "execution_count": 17,
      "outputs": [
        {
          "output_type": "stream",
          "text": [
            "mv: cannot stat 'uncased_L-12_H-768_A-12/': No such file or directory\n"
          ],
          "name": "stdout"
        }
      ]
    },
    {
      "cell_type": "markdown",
      "metadata": {
        "id": "cGSsNnBWICYa"
      },
      "source": [
        "### **Specify the Model name**"
      ]
    },
    {
      "cell_type": "code",
      "metadata": {
        "id": "8FXBoqKmIHJM"
      },
      "source": [
        "bert_model_name=\"uncased_L-12_H-768_A-12\"\n",
        "\n",
        "bert_ckpt_dir = os.path.join(\"model/\", bert_model_name)\n",
        "bert_ckpt_file = os.path.join(bert_ckpt_dir, \"bert_model.ckpt\")\n",
        "bert_config_file = os.path.join(bert_ckpt_dir, \"bert_config.json\")"
      ],
      "execution_count": 18,
      "outputs": []
    },
    {
      "cell_type": "markdown",
      "metadata": {
        "id": "_R3P35KrEzZp"
      },
      "source": [
        "### **Preprocessing**"
      ]
    },
    {
      "cell_type": "markdown",
      "metadata": {
        "id": "KxQEyv9QE4dT"
      },
      "source": [
        "We need to convert the texts into vectors. Then only we can feed into our BERT model.Whic preprocessing steps are: \n",
        "1. Tokenize the text\n",
        "2. Convert the sequence of tokens into numbers\n",
        "3. Pading the sequences \n"
      ]
    },
    {
      "cell_type": "code",
      "metadata": {
        "colab": {
          "base_uri": "https://localhost:8080/"
        },
        "id": "yKqou-zTNLvR",
        "outputId": "5235bc85-4304-45fe-bfeb-e1a7ace9fe2e"
      },
      "source": [
        "!pip install tqdm "
      ],
      "execution_count": 19,
      "outputs": [
        {
          "output_type": "stream",
          "text": [
            "Requirement already satisfied: tqdm in /usr/local/lib/python3.7/dist-packages (4.41.1)\n"
          ],
          "name": "stdout"
        }
      ]
    },
    {
      "cell_type": "code",
      "metadata": {
        "id": "KDYJ9HzGYDAP"
      },
      "source": [
        "from tqdm import tqdm"
      ],
      "execution_count": 20,
      "outputs": []
    },
    {
      "cell_type": "markdown",
      "metadata": {
        "id": "kDqLee7M8QN9"
      },
      "source": [
        "### **Padding**"
      ]
    },
    {
      "cell_type": "markdown",
      "metadata": {
        "id": "B6VIRTpd8Vbg"
      },
      "source": [
        "**After tokenization, tokenized is a list of sentences -- each sentences is represented as a list of tokens. We want BERT to process our examples all at once (as one batch). It's just faster that way. For that reason, we need to pad all lists to the same size, so we can represent the input as one 2-d array, rather than a list of lists (of different lengths).**"
      ]
    },
    {
      "cell_type": "code",
      "metadata": {
        "id": "iyy_zVy9-N7-"
      },
      "source": [
        "class intent_classification:\n",
        "  text_column = \"text\"\n",
        "  intent_column = \"intent\"\n",
        "\n",
        "  def __init__(self, train, test, tokenizer: FullTokenizer, classes, max_seq_len=192):\n",
        "    self.tokenizer = tokenizer\n",
        "    self.max_seq_len = 0\n",
        "    self.classes = classes\n",
        "    \n",
        "    train, test = map(lambda df: df.reindex(df[intent_classification.text_column].str.len().sort_values().index), [train, test])\n",
        "    \n",
        "    ((self.train_x, self.train_y), (self.test_x, self.test_y)) = map(self._prepare, [train, test])\n",
        "\n",
        "    print(\"max seq_len\", self.max_seq_len)\n",
        "    self.max_seq_len = min(self.max_seq_len, max_seq_len)\n",
        "    self.train_x, self.test_x = map(self._pad, [self.train_x, self.test_x])\n",
        "\n",
        "  def _prepare(self, df):\n",
        "    x, y = [], []\n",
        "    \n",
        "    for _, row in tqdm(df.iterrows()):\n",
        "      text, label = row[intent_classification.text_column], row[intent_classification.intent_column]\n",
        "      tokens = self.tokenizer.tokenize(text)\n",
        "      tokens = [\"[CLS]\"] + tokens + [\"[SEP]\"]\n",
        "      token_ids = self.tokenizer.convert_tokens_to_ids(tokens)\n",
        "      self.max_seq_len = max(self.max_seq_len, len(token_ids))\n",
        "      x.append(token_ids)\n",
        "      y.append(self.classes.index(label))\n",
        "\n",
        "    return np.array(x), np.array(y)\n",
        "\n",
        "  def _pad(self, ids):\n",
        "    x = []\n",
        "    for input_ids in ids:\n",
        "      input_ids = input_ids[:min(len(input_ids), self.max_seq_len - 2)]\n",
        "      input_ids = input_ids + [0] * (self.max_seq_len - len(input_ids))\n",
        "      x.append(np.array(input_ids))\n",
        "    return np.array(x)"
      ],
      "execution_count": 21,
      "outputs": []
    },
    {
      "cell_type": "code",
      "metadata": {
        "id": "LTCj5q5_-N9v"
      },
      "source": [
        "tokenizer = FullTokenizer(vocab_file=os.path.join(bert_ckpt_dir, \"vocab.txt\"))"
      ],
      "execution_count": 22,
      "outputs": []
    },
    {
      "cell_type": "code",
      "metadata": {
        "colab": {
          "base_uri": "https://localhost:8080/"
        },
        "id": "rRGtT43h-OA6",
        "outputId": "c732476e-5c6f-46ec-cd84-e14df6774ac1"
      },
      "source": [
        "tokenizer.tokenize(\"I can't wait to visit Germany again!\")"
      ],
      "execution_count": 23,
      "outputs": [
        {
          "output_type": "execute_result",
          "data": {
            "text/plain": [
              "['i', 'can', \"'\", 't', 'wait', 'to', 'visit', 'germany', 'again', '!']"
            ]
          },
          "metadata": {
            "tags": []
          },
          "execution_count": 23
        }
      ]
    },
    {
      "cell_type": "code",
      "metadata": {
        "colab": {
          "base_uri": "https://localhost:8080/"
        },
        "id": "5C8ey_6xaXIl",
        "outputId": "8baa7198-9d55-4574-cc9b-bc719676ce0c"
      },
      "source": [
        "tokens = tokenizer.tokenize(\"I can't wait to visit Bulgaria again!\")\n",
        "tokenizer.convert_tokens_to_ids(tokens)"
      ],
      "execution_count": 24,
      "outputs": [
        {
          "output_type": "execute_result",
          "data": {
            "text/plain": [
              "[1045, 2064, 1005, 1056, 3524, 2000, 3942, 8063, 2153, 999]"
            ]
          },
          "metadata": {
            "tags": []
          },
          "execution_count": 24
        }
      ]
    },
    {
      "cell_type": "markdown",
      "metadata": {
        "id": "WL96e8PxgrXj"
      },
      "source": [
        "### **Fine-tuning BERT model**"
      ]
    },
    {
      "cell_type": "code",
      "metadata": {
        "id": "V7Tohyg8aXe8"
      },
      "source": [
        "def create_model(max_seq_len, bert_ckpt_file):\n",
        "\n",
        "  with tf.io.gfile.GFile(bert_config_file, \"r\") as reader:\n",
        "      bc = StockBertConfig.from_json_string(reader.read())\n",
        "      bert_params = map_stock_config_to_params(bc)\n",
        "      bert_params.adapter_size = None\n",
        "      bert = BertModelLayer.from_params(bert_params, name=\"bert\")\n",
        "        \n",
        "  input_ids = keras.layers.Input(shape=(max_seq_len, ), dtype='int32', name=\"input_ids\")\n",
        "  bert_output = bert(input_ids)\n",
        "\n",
        "  print(\"bert shape\", bert_output.shape)\n",
        "\n",
        "  cls_out = keras.layers.Lambda(lambda seq: seq[:, 0, :])(bert_output)\n",
        "  cls_out = keras.layers.Dropout(0.5)(cls_out)\n",
        "  logits = keras.layers.Dense(units=768, activation=\"tanh\")(cls_out)\n",
        "  logits = keras.layers.Dropout(0.5)(logits)\n",
        "  logits = keras.layers.Dense(units=len(classes), activation=\"softmax\")(logits)\n",
        "\n",
        "  model = keras.Model(inputs=input_ids, outputs=logits)\n",
        "  model.build(input_shape=(None, max_seq_len))\n",
        "\n",
        "  load_stock_weights(bert, bert_ckpt_file)\n",
        "        \n",
        "  return model"
      ],
      "execution_count": 25,
      "outputs": []
    },
    {
      "cell_type": "markdown",
      "metadata": {
        "id": "fMj5PKgGaqpV"
      },
      "source": [
        "### **Training The Model**"
      ]
    },
    {
      "cell_type": "code",
      "metadata": {
        "colab": {
          "base_uri": "https://localhost:8080/"
        },
        "id": "pwtPo-c4ceBF",
        "outputId": "97a7374b-45ce-47d3-fbab-3570c3216e5d"
      },
      "source": [
        "\n",
        "!pip install sentencepiece"
      ],
      "execution_count": 26,
      "outputs": [
        {
          "output_type": "stream",
          "text": [
            "Collecting sentencepiece\n",
            "\u001b[?25l  Downloading https://files.pythonhosted.org/packages/f5/99/e0808cb947ba10f575839c43e8fafc9cc44e4a7a2c8f79c60db48220a577/sentencepiece-0.1.95-cp37-cp37m-manylinux2014_x86_64.whl (1.2MB)\n",
            "\r\u001b[K     |▎                               | 10kB 25.1MB/s eta 0:00:01\r\u001b[K     |▌                               | 20kB 30.7MB/s eta 0:00:01\r\u001b[K     |▉                               | 30kB 20.2MB/s eta 0:00:01\r\u001b[K     |█                               | 40kB 23.2MB/s eta 0:00:01\r\u001b[K     |█▍                              | 51kB 26.0MB/s eta 0:00:01\r\u001b[K     |█▋                              | 61kB 28.3MB/s eta 0:00:01\r\u001b[K     |██                              | 71kB 30.1MB/s eta 0:00:01\r\u001b[K     |██▏                             | 81kB 24.6MB/s eta 0:00:01\r\u001b[K     |██▌                             | 92kB 26.0MB/s eta 0:00:01\r\u001b[K     |██▊                             | 102kB 24.3MB/s eta 0:00:01\r\u001b[K     |███                             | 112kB 24.3MB/s eta 0:00:01\r\u001b[K     |███▎                            | 122kB 24.3MB/s eta 0:00:01\r\u001b[K     |███▌                            | 133kB 24.3MB/s eta 0:00:01\r\u001b[K     |███▉                            | 143kB 24.3MB/s eta 0:00:01\r\u001b[K     |████                            | 153kB 24.3MB/s eta 0:00:01\r\u001b[K     |████▍                           | 163kB 24.3MB/s eta 0:00:01\r\u001b[K     |████▋                           | 174kB 24.3MB/s eta 0:00:01\r\u001b[K     |█████                           | 184kB 24.3MB/s eta 0:00:01\r\u001b[K     |█████▏                          | 194kB 24.3MB/s eta 0:00:01\r\u001b[K     |█████▌                          | 204kB 24.3MB/s eta 0:00:01\r\u001b[K     |█████▊                          | 215kB 24.3MB/s eta 0:00:01\r\u001b[K     |██████                          | 225kB 24.3MB/s eta 0:00:01\r\u001b[K     |██████▎                         | 235kB 24.3MB/s eta 0:00:01\r\u001b[K     |██████▌                         | 245kB 24.3MB/s eta 0:00:01\r\u001b[K     |██████▉                         | 256kB 24.3MB/s eta 0:00:01\r\u001b[K     |███████                         | 266kB 24.3MB/s eta 0:00:01\r\u001b[K     |███████▍                        | 276kB 24.3MB/s eta 0:00:01\r\u001b[K     |███████▋                        | 286kB 24.3MB/s eta 0:00:01\r\u001b[K     |████████                        | 296kB 24.3MB/s eta 0:00:01\r\u001b[K     |████████▏                       | 307kB 24.3MB/s eta 0:00:01\r\u001b[K     |████████▍                       | 317kB 24.3MB/s eta 0:00:01\r\u001b[K     |████████▊                       | 327kB 24.3MB/s eta 0:00:01\r\u001b[K     |█████████                       | 337kB 24.3MB/s eta 0:00:01\r\u001b[K     |█████████▎                      | 348kB 24.3MB/s eta 0:00:01\r\u001b[K     |█████████▌                      | 358kB 24.3MB/s eta 0:00:01\r\u001b[K     |█████████▉                      | 368kB 24.3MB/s eta 0:00:01\r\u001b[K     |██████████                      | 378kB 24.3MB/s eta 0:00:01\r\u001b[K     |██████████▍                     | 389kB 24.3MB/s eta 0:00:01\r\u001b[K     |██████████▋                     | 399kB 24.3MB/s eta 0:00:01\r\u001b[K     |███████████                     | 409kB 24.3MB/s eta 0:00:01\r\u001b[K     |███████████▏                    | 419kB 24.3MB/s eta 0:00:01\r\u001b[K     |███████████▍                    | 430kB 24.3MB/s eta 0:00:01\r\u001b[K     |███████████▊                    | 440kB 24.3MB/s eta 0:00:01\r\u001b[K     |████████████                    | 450kB 24.3MB/s eta 0:00:01\r\u001b[K     |████████████▎                   | 460kB 24.3MB/s eta 0:00:01\r\u001b[K     |████████████▌                   | 471kB 24.3MB/s eta 0:00:01\r\u001b[K     |████████████▉                   | 481kB 24.3MB/s eta 0:00:01\r\u001b[K     |█████████████                   | 491kB 24.3MB/s eta 0:00:01\r\u001b[K     |█████████████▍                  | 501kB 24.3MB/s eta 0:00:01\r\u001b[K     |█████████████▋                  | 512kB 24.3MB/s eta 0:00:01\r\u001b[K     |█████████████▉                  | 522kB 24.3MB/s eta 0:00:01\r\u001b[K     |██████████████▏                 | 532kB 24.3MB/s eta 0:00:01\r\u001b[K     |██████████████▍                 | 542kB 24.3MB/s eta 0:00:01\r\u001b[K     |██████████████▊                 | 552kB 24.3MB/s eta 0:00:01\r\u001b[K     |███████████████                 | 563kB 24.3MB/s eta 0:00:01\r\u001b[K     |███████████████▎                | 573kB 24.3MB/s eta 0:00:01\r\u001b[K     |███████████████▌                | 583kB 24.3MB/s eta 0:00:01\r\u001b[K     |███████████████▉                | 593kB 24.3MB/s eta 0:00:01\r\u001b[K     |████████████████                | 604kB 24.3MB/s eta 0:00:01\r\u001b[K     |████████████████▍               | 614kB 24.3MB/s eta 0:00:01\r\u001b[K     |████████████████▋               | 624kB 24.3MB/s eta 0:00:01\r\u001b[K     |████████████████▉               | 634kB 24.3MB/s eta 0:00:01\r\u001b[K     |█████████████████▏              | 645kB 24.3MB/s eta 0:00:01\r\u001b[K     |█████████████████▍              | 655kB 24.3MB/s eta 0:00:01\r\u001b[K     |█████████████████▊              | 665kB 24.3MB/s eta 0:00:01\r\u001b[K     |██████████████████              | 675kB 24.3MB/s eta 0:00:01\r\u001b[K     |██████████████████▎             | 686kB 24.3MB/s eta 0:00:01\r\u001b[K     |██████████████████▌             | 696kB 24.3MB/s eta 0:00:01\r\u001b[K     |██████████████████▉             | 706kB 24.3MB/s eta 0:00:01\r\u001b[K     |███████████████████             | 716kB 24.3MB/s eta 0:00:01\r\u001b[K     |███████████████████▎            | 727kB 24.3MB/s eta 0:00:01\r\u001b[K     |███████████████████▋            | 737kB 24.3MB/s eta 0:00:01\r\u001b[K     |███████████████████▉            | 747kB 24.3MB/s eta 0:00:01\r\u001b[K     |████████████████████▏           | 757kB 24.3MB/s eta 0:00:01\r\u001b[K     |████████████████████▍           | 768kB 24.3MB/s eta 0:00:01\r\u001b[K     |████████████████████▊           | 778kB 24.3MB/s eta 0:00:01\r\u001b[K     |█████████████████████           | 788kB 24.3MB/s eta 0:00:01\r\u001b[K     |█████████████████████▎          | 798kB 24.3MB/s eta 0:00:01\r\u001b[K     |█████████████████████▌          | 808kB 24.3MB/s eta 0:00:01\r\u001b[K     |█████████████████████▉          | 819kB 24.3MB/s eta 0:00:01\r\u001b[K     |██████████████████████          | 829kB 24.3MB/s eta 0:00:01\r\u001b[K     |██████████████████████▎         | 839kB 24.3MB/s eta 0:00:01\r\u001b[K     |██████████████████████▋         | 849kB 24.3MB/s eta 0:00:01\r\u001b[K     |██████████████████████▉         | 860kB 24.3MB/s eta 0:00:01\r\u001b[K     |███████████████████████▏        | 870kB 24.3MB/s eta 0:00:01\r\u001b[K     |███████████████████████▍        | 880kB 24.3MB/s eta 0:00:01\r\u001b[K     |███████████████████████▊        | 890kB 24.3MB/s eta 0:00:01\r\u001b[K     |████████████████████████        | 901kB 24.3MB/s eta 0:00:01\r\u001b[K     |████████████████████████▎       | 911kB 24.3MB/s eta 0:00:01\r\u001b[K     |████████████████████████▌       | 921kB 24.3MB/s eta 0:00:01\r\u001b[K     |████████████████████████▊       | 931kB 24.3MB/s eta 0:00:01\r\u001b[K     |█████████████████████████       | 942kB 24.3MB/s eta 0:00:01\r\u001b[K     |█████████████████████████▎      | 952kB 24.3MB/s eta 0:00:01\r\u001b[K     |█████████████████████████▋      | 962kB 24.3MB/s eta 0:00:01\r\u001b[K     |█████████████████████████▉      | 972kB 24.3MB/s eta 0:00:01\r\u001b[K     |██████████████████████████▏     | 983kB 24.3MB/s eta 0:00:01\r\u001b[K     |██████████████████████████▍     | 993kB 24.3MB/s eta 0:00:01\r\u001b[K     |██████████████████████████▊     | 1.0MB 24.3MB/s eta 0:00:01\r\u001b[K     |███████████████████████████     | 1.0MB 24.3MB/s eta 0:00:01\r\u001b[K     |███████████████████████████▎    | 1.0MB 24.3MB/s eta 0:00:01\r\u001b[K     |███████████████████████████▌    | 1.0MB 24.3MB/s eta 0:00:01\r\u001b[K     |███████████████████████████▊    | 1.0MB 24.3MB/s eta 0:00:01\r\u001b[K     |████████████████████████████    | 1.1MB 24.3MB/s eta 0:00:01\r\u001b[K     |████████████████████████████▎   | 1.1MB 24.3MB/s eta 0:00:01\r\u001b[K     |████████████████████████████▋   | 1.1MB 24.3MB/s eta 0:00:01\r\u001b[K     |████████████████████████████▉   | 1.1MB 24.3MB/s eta 0:00:01\r\u001b[K     |█████████████████████████████▏  | 1.1MB 24.3MB/s eta 0:00:01\r\u001b[K     |█████████████████████████████▍  | 1.1MB 24.3MB/s eta 0:00:01\r\u001b[K     |█████████████████████████████▊  | 1.1MB 24.3MB/s eta 0:00:01\r\u001b[K     |██████████████████████████████  | 1.1MB 24.3MB/s eta 0:00:01\r\u001b[K     |██████████████████████████████▏ | 1.1MB 24.3MB/s eta 0:00:01\r\u001b[K     |██████████████████████████████▌ | 1.1MB 24.3MB/s eta 0:00:01\r\u001b[K     |██████████████████████████████▊ | 1.2MB 24.3MB/s eta 0:00:01\r\u001b[K     |███████████████████████████████ | 1.2MB 24.3MB/s eta 0:00:01\r\u001b[K     |███████████████████████████████▎| 1.2MB 24.3MB/s eta 0:00:01\r\u001b[K     |███████████████████████████████▋| 1.2MB 24.3MB/s eta 0:00:01\r\u001b[K     |███████████████████████████████▉| 1.2MB 24.3MB/s eta 0:00:01\r\u001b[K     |████████████████████████████████| 1.2MB 24.3MB/s \n",
            "\u001b[?25hInstalling collected packages: sentencepiece\n",
            "Successfully installed sentencepiece-0.1.95\n"
          ],
          "name": "stdout"
        }
      ]
    },
    {
      "cell_type": "code",
      "metadata": {
        "colab": {
          "base_uri": "https://localhost:8080/"
        },
        "id": "Y9Siy-GIclB-",
        "outputId": "aa0ea893-bd82-475c-e445-7afed95d04ae"
      },
      "source": [
        "!nvidia-smi"
      ],
      "execution_count": 27,
      "outputs": [
        {
          "output_type": "stream",
          "text": [
            "Thu Apr 29 07:50:29 2021       \n",
            "+-----------------------------------------------------------------------------+\n",
            "| NVIDIA-SMI 465.19.01    Driver Version: 460.32.03    CUDA Version: 11.2     |\n",
            "|-------------------------------+----------------------+----------------------+\n",
            "| GPU  Name        Persistence-M| Bus-Id        Disp.A | Volatile Uncorr. ECC |\n",
            "| Fan  Temp  Perf  Pwr:Usage/Cap|         Memory-Usage | GPU-Util  Compute M. |\n",
            "|                               |                      |               MIG M. |\n",
            "|===============================+======================+======================|\n",
            "|   0  Tesla T4            Off  | 00000000:00:04.0 Off |                    0 |\n",
            "| N/A   38C    P8     9W /  70W |      0MiB / 15109MiB |      0%      Default |\n",
            "|                               |                      |                  N/A |\n",
            "+-------------------------------+----------------------+----------------------+\n",
            "                                                                               \n",
            "+-----------------------------------------------------------------------------+\n",
            "| Processes:                                                                  |\n",
            "|  GPU   GI   CI        PID   Type   Process name                  GPU Memory |\n",
            "|        ID   ID                                                   Usage      |\n",
            "|=============================================================================|\n",
            "|  No running processes found                                                 |\n",
            "+-----------------------------------------------------------------------------+\n"
          ],
          "name": "stdout"
        }
      ]
    },
    {
      "cell_type": "code",
      "metadata": {
        "colab": {
          "base_uri": "https://localhost:8080/"
        },
        "id": "Z8CMpHRYaXq8",
        "outputId": "70ee10d2-a405-4ebc-94c1-df27e2a94fa9"
      },
      "source": [
        "classes = train.intent.unique().tolist()\n",
        "data = intent_classification(train, test, tokenizer, classes, max_seq_len=128)"
      ],
      "execution_count": 28,
      "outputs": [
        {
          "output_type": "stream",
          "text": [
            "13784it [00:03, 4010.93it/s]\n",
            "/usr/local/lib/python3.7/dist-packages/ipykernel_launcher.py:30: VisibleDeprecationWarning: Creating an ndarray from ragged nested sequences (which is a list-or-tuple of lists-or-tuples-or ndarrays with different lengths or shapes) is deprecated. If you meant to do this, you must specify 'dtype=object' when creating the ndarray\n",
            "700it [00:00, 4022.44it/s]\n"
          ],
          "name": "stderr"
        },
        {
          "output_type": "stream",
          "text": [
            "max seq_len 38\n"
          ],
          "name": "stdout"
        }
      ]
    },
    {
      "cell_type": "code",
      "metadata": {
        "colab": {
          "base_uri": "https://localhost:8080/"
        },
        "id": "NUl7w2LYaXsT",
        "outputId": "120b6784-d6f2-4810-b09a-62e77b118299"
      },
      "source": [
        "print(\"After tokenization and padding train_x shape is\"+str( data.train_x.shape))\n",
        "print(\"After tokenization and padding train_y shape is\"+str( data.train_y.shape))\n",
        "print(\"After tokenization and padding test_x shape is\"+str( data.train_x.shape))\n",
        "print(\"After tokenization and padding test_y shape is\"+str( data.train_y.shape))"
      ],
      "execution_count": 29,
      "outputs": [
        {
          "output_type": "stream",
          "text": [
            "After tokenization and padding train_x shape is(13784, 38)\n",
            "After tokenization and padding train_y shape is(13784,)\n",
            "After tokenization and padding test_x shape is(13784, 38)\n",
            "After tokenization and padding test_y shape is(13784,)\n"
          ],
          "name": "stdout"
        }
      ]
    },
    {
      "cell_type": "code",
      "metadata": {
        "colab": {
          "base_uri": "https://localhost:8080/"
        },
        "id": "klKTjU29aXtu",
        "outputId": "c3eab36f-f08a-4ad2-b40e-cb948e1a0e28"
      },
      "source": [
        "data.train_x[0]"
      ],
      "execution_count": 30,
      "outputs": [
        {
          "output_type": "execute_result",
          "data": {
            "text/plain": [
              "array([ 101, 2377, 3769,  102,    0,    0,    0,    0,    0,    0,    0,\n",
              "          0,    0,    0,    0,    0,    0,    0,    0,    0,    0,    0,\n",
              "          0,    0,    0,    0,    0,    0,    0,    0,    0,    0,    0,\n",
              "          0,    0,    0,    0,    0])"
            ]
          },
          "metadata": {
            "tags": []
          },
          "execution_count": 30
        }
      ]
    },
    {
      "cell_type": "code",
      "metadata": {
        "colab": {
          "base_uri": "https://localhost:8080/"
        },
        "id": "J9yDzEOHaXvi",
        "outputId": "2408cfed-18b5-4337-82d2-0eeed22e1b79"
      },
      "source": [
        "model = create_model(data.max_seq_len, bert_ckpt_file)"
      ],
      "execution_count": 56,
      "outputs": [
        {
          "output_type": "stream",
          "text": [
            "bert shape (None, 38, 768)\n",
            "Done loading 196 BERT weights from: model/uncased_L-12_H-768_A-12/bert_model.ckpt into <bert.model.BertModelLayer object at 0x7fe08c4f97d0> (prefix:bert). Count of weights not found in the checkpoint was: [0]. Count of weights with mismatched shape: [0]\n",
            "Unused weights from checkpoint: \n",
            "\tbert/embeddings/token_type_embeddings\n",
            "\tbert/pooler/dense/bias\n",
            "\tbert/pooler/dense/kernel\n",
            "\tcls/predictions/output_bias\n",
            "\tcls/predictions/transform/LayerNorm/beta\n",
            "\tcls/predictions/transform/LayerNorm/gamma\n",
            "\tcls/predictions/transform/dense/bias\n",
            "\tcls/predictions/transform/dense/kernel\n",
            "\tcls/seq_relationship/output_bias\n",
            "\tcls/seq_relationship/output_weights\n"
          ],
          "name": "stdout"
        }
      ]
    },
    {
      "cell_type": "code",
      "metadata": {
        "colab": {
          "base_uri": "https://localhost:8080/"
        },
        "id": "jwcdQLrJaXzI",
        "outputId": "07591a10-59c0-4122-9106-950444baa0d5"
      },
      "source": [
        "\n",
        "model.summary()"
      ],
      "execution_count": 57,
      "outputs": [
        {
          "output_type": "stream",
          "text": [
            "Model: \"model_3\"\n",
            "_________________________________________________________________\n",
            "Layer (type)                 Output Shape              Param #   \n",
            "=================================================================\n",
            "input_ids (InputLayer)       [(None, 38)]              0         \n",
            "_________________________________________________________________\n",
            "bert (BertModelLayer)        (None, 38, 768)           108890112 \n",
            "_________________________________________________________________\n",
            "lambda_1 (Lambda)            (None, 768)               0         \n",
            "_________________________________________________________________\n",
            "dropout_2 (Dropout)          (None, 768)               0         \n",
            "_________________________________________________________________\n",
            "dense_3 (Dense)              (None, 768)               590592    \n",
            "_________________________________________________________________\n",
            "dropout_3 (Dropout)          (None, 768)               0         \n",
            "_________________________________________________________________\n",
            "dense_4 (Dense)              (None, 7)                 5383      \n",
            "=================================================================\n",
            "Total params: 109,486,087\n",
            "Trainable params: 109,486,087\n",
            "Non-trainable params: 0\n",
            "_________________________________________________________________\n"
          ],
          "name": "stdout"
        }
      ]
    },
    {
      "cell_type": "code",
      "metadata": {
        "id": "LRaXa6tpaX1F"
      },
      "source": [
        "model.compile(\n",
        "  optimizer=keras.optimizers.Adam(1e-5),\n",
        "  loss=keras.losses.SparseCategoricalCrossentropy(from_logits=True),\n",
        "  metrics=[keras.metrics.SparseCategoricalAccuracy(name=\"acc\")]\n",
        ")"
      ],
      "execution_count": 58,
      "outputs": []
    },
    {
      "cell_type": "code",
      "metadata": {
        "colab": {
          "base_uri": "https://localhost:8080/"
        },
        "id": "sOAtrOvzaX2c",
        "outputId": "69023261-8ddd-499e-b87d-20e25f4b2fb2"
      },
      "source": [
        "log_dir = \"log/intent_detection/\" + datetime.datetime.now().strftime(\"%Y%m%d-%H%M%s\")\n",
        "tensorboard_callback = keras.callbacks.TensorBoard(log_dir=log_dir)\n",
        "\n",
        "history = model.fit(\n",
        "  x=data.train_x, \n",
        "  y=data.train_y,\n",
        "  validation_split=0.1,\n",
        "  batch_size=16,\n",
        "  shuffle=True,\n",
        "  epochs=2,\n",
        "  callbacks=[tensorboard_callback]\n",
        ")"
      ],
      "execution_count": 60,
      "outputs": [
        {
          "output_type": "stream",
          "text": [
            "Epoch 1/2\n",
            "776/776 [==============================] - 259s 334ms/step - loss: 0.0566 - acc: 0.9842 - val_loss: 0.0210 - val_acc: 0.9971\n",
            "Epoch 2/2\n",
            "776/776 [==============================] - 258s 333ms/step - loss: 0.0352 - acc: 0.9889 - val_loss: 0.0168 - val_acc: 0.9978\n"
          ],
          "name": "stdout"
        }
      ]
    },
    {
      "cell_type": "code",
      "metadata": {
        "id": "MwlxyCJM0bjY"
      },
      "source": [
        "model.save('/content/drive/My Drive/bert_model')"
      ],
      "execution_count": 61,
      "outputs": []
    },
    {
      "cell_type": "code",
      "metadata": {
        "id": "khxUxbTcoJdk"
      },
      "source": [
        "import pickle"
      ],
      "execution_count": 35,
      "outputs": []
    },
    {
      "cell_type": "markdown",
      "metadata": {
        "id": "yGFtzg-zhP-D"
      },
      "source": [
        "### **Evaluation**"
      ]
    },
    {
      "cell_type": "code",
      "metadata": {
        "colab": {
          "base_uri": "https://localhost:8080/",
          "height": 306
        },
        "id": "eX6yTYReaX3p",
        "outputId": "bf2df4e1-2b73-4095-b90b-24084e8c96c2"
      },
      "source": [
        "# %load_ext tensorboard\n",
        "# %tensorboard --logdir log\n",
        "ax = plt.figure().gca()\n",
        "ax.xaxis.set_major_locator(MaxNLocator(integer=True))\n",
        "\n",
        "ax.plot(history.history['loss'])\n",
        "ax.plot(history.history['val_loss'])\n",
        "plt.ylabel('Loss')\n",
        "plt.xlabel('Epoch')\n",
        "plt.legend(['train', 'test'])\n",
        "plt.title('Loss over training epochs')\n",
        "plt.show();"
      ],
      "execution_count": 62,
      "outputs": [
        {
          "output_type": "display_data",
          "data": {
            "image/png": "[encoded data removed]",
            "text/plain": [
              "<Figure size 432x288 with 1 Axes>"
            ]
          },
          "metadata": {
            "tags": [],
            "needs_background": "light"
          }
        }
      ]
    },
    {
      "cell_type": "code",
      "metadata": {
        "colab": {
          "base_uri": "https://localhost:8080/"
        },
        "id": "RuWx2tj5hgYL",
        "outputId": "0114214a-e946-4f74-a9f8-94eb06c681f9"
      },
      "source": [
        "_, train_acc = model.evaluate(data.train_x, data.train_y)\n",
        "_, test_acc = model.evaluate(data.test_x, data.test_y)\n",
        "\n",
        "print(\"train acc\", train_acc)\n",
        "print(\"test acc\", test_acc)"
      ],
      "execution_count": 64,
      "outputs": [
        {
          "output_type": "stream",
          "text": [
            "431/431 [==============================] - 39s 90ms/step - loss: 0.0184 - acc: 0.9958\n",
            "22/22 [==============================] - 2s 90ms/step - loss: 0.0874 - acc: 0.9786\n",
            "train acc 0.9957922101020813\n",
            "test acc 0.9785714149475098\n"
          ],
          "name": "stdout"
        }
      ]
    },
    {
      "cell_type": "code",
      "metadata": {
        "id": "EIwOelzthgZw"
      },
      "source": [
        "y_pred = model.predict(data.test_x).argmax(axis=-1)"
      ],
      "execution_count": 68,
      "outputs": []
    },
    {
      "cell_type": "code",
      "metadata": {
        "colab": {
          "base_uri": "https://localhost:8080/"
        },
        "id": "UWGREN03hgdD",
        "outputId": "5a3af11b-39be-4931-93bd-6d9cbe13621c"
      },
      "source": [
        "from sklearn.metrics import confusion_matrix, classification_report\n",
        "print(classification_report(data.test_y, y_pred, target_names=classes))"
      ],
      "execution_count": 69,
      "outputs": [
        {
          "output_type": "stream",
          "text": [
            "                      precision    recall  f1-score   support\n",
            "\n",
            "           PlayMusic       0.97      0.99      0.98        86\n",
            "       AddToPlaylist       1.00      1.00      1.00       124\n",
            "            RateBook       1.00      1.00      1.00        80\n",
            "SearchScreeningEvent       0.99      0.92      0.95       107\n",
            "      BookRestaurant       0.99      1.00      0.99        92\n",
            "          GetWeather       1.00      0.99      1.00       104\n",
            "  SearchCreativeWork       0.91      0.96      0.94       107\n",
            "\n",
            "            accuracy                           0.98       700\n",
            "           macro avg       0.98      0.98      0.98       700\n",
            "        weighted avg       0.98      0.98      0.98       700\n",
            "\n"
          ],
          "name": "stdout"
        }
      ]
    },
    {
      "cell_type": "code",
      "metadata": {
        "colab": {
          "base_uri": "https://localhost:8080/",
          "height": 362
        },
        "id": "ku0FG6v9hgej",
        "outputId": "9274e5e0-c572-4ef6-ec8c-8440a862caae"
      },
      "source": [
        "cm = confusion_matrix(data.test_y, y_pred)\n",
        "df_cm = pd.DataFrame(cm, index=classes, columns=classes)\n",
        "hmap = sns.heatmap(df_cm, annot=True, fmt=\"d\")\n",
        "hmap.yaxis.set_ticklabels(hmap.yaxis.get_ticklabels(), rotation=0, ha='right')\n",
        "hmap.xaxis.set_ticklabels(hmap.xaxis.get_ticklabels(), rotation=30, ha='right')\n",
        "plt.ylabel('True label')\n",
        "plt.xlabel('Predicted label');"
      ],
      "execution_count": 70,
      "outputs": [
        {
          "output_type": "display_data",
          "data": {
            "image/png": "[encoded data removed]",
            "text/plain": [
              "<Figure size 432x288 with 2 Axes>"
            ]
          },
          "metadata": {
            "tags": [],
            "needs_background": "light"
          }
        }
      ]
    },
    {
      "cell_type": "code",
      "metadata": {
        "colab": {
          "base_uri": "https://localhost:8080/"
        },
        "id": "-APNKNwehgiB",
        "outputId": "110ef2df-262f-4a20-9278-05a7c98d1b8f"
      },
      "source": [
        "sentences = [\n",
        "  \"Play our song now\",\n",
        "  \"Rate this book as awful\"\n",
        "]\n",
        "\n",
        "pred_tokens = map(tokenizer.tokenize, sentences)\n",
        "pred_tokens = map(lambda tok: [\"[CLS]\"] + tok + [\"[SEP]\"], pred_tokens)\n",
        "pred_token_ids = list(map(tokenizer.convert_tokens_to_ids, pred_tokens))\n",
        "\n",
        "pred_token_ids = map(lambda tids: tids +[0]*(data.max_seq_len-len(tids)),pred_token_ids)\n",
        "pred_token_ids = np.array(list(pred_token_ids))\n",
        "\n",
        "predictions = model.predict(pred_token_ids).argmax(axis=-1)\n",
        "\n",
        "for text, label in zip(sentences, predictions):\n",
        "  print(\"text:\", text, \"\\nintent:\", classes[label])\n",
        "  print()"
      ],
      "execution_count": 71,
      "outputs": [
        {
          "output_type": "stream",
          "text": [
            "text: Play our song now \n",
            "intent: PlayMusic\n",
            "\n",
            "text: Rate this book as awful \n",
            "intent: RateBook\n",
            "\n"
          ],
          "name": "stdout"
        }
      ]
    },
    {
      "cell_type": "markdown",
      "metadata": {
        "id": "wfmmK6CeAxZK"
      },
      "source": [
        "### **Try intent prediction using  ktrain**"
      ]
    },
    {
      "cell_type": "code",
      "metadata": {
        "id": "kGbjki3FpTG3"
      },
      "source": [
        "!pip install ktrain"
      ],
      "execution_count": null,
      "outputs": []
    },
    {
      "cell_type": "code",
      "metadata": {
        "id": "0aepKs9Yhgjt"
      },
      "source": [
        "import ktrain\n",
        "from ktrain import text"
      ],
      "execution_count": 43,
      "outputs": []
    },
    {
      "cell_type": "code",
      "metadata": {
        "colab": {
          "base_uri": "https://localhost:8080/",
          "height": 571
        },
        "id": "FgfFv-P2hgnB",
        "outputId": "4017ff1f-76bf-41f7-9edd-38f8e2ce0e2d"
      },
      "source": [
        "(X_train,y_train),(X_test,y_test),preprocess=text.texts_from_df(train_df=train,\n",
        "                                                                   text_column = 'text',\n",
        "                                                                   label_columns = 'intent',\n",
        "                                                                   val_df =test,\n",
        "                                                                   maxlen = 64,\n",
        "                                                                   preprocess_mode = 'bert')"
      ],
      "execution_count": 44,
      "outputs": [
        {
          "output_type": "stream",
          "text": [
            "['AddToPlaylist', 'BookRestaurant', 'GetWeather', 'PlayMusic', 'RateBook', 'SearchCreativeWork', 'SearchScreeningEvent']\n",
            "   AddToPlaylist  BookRestaurant  ...  SearchCreativeWork  SearchScreeningEvent\n",
            "0            0.0             0.0  ...                 0.0                   0.0\n",
            "1            1.0             0.0  ...                 0.0                   0.0\n",
            "2            0.0             0.0  ...                 0.0                   0.0\n",
            "3            0.0             0.0  ...                 0.0                   0.0\n",
            "4            1.0             0.0  ...                 0.0                   0.0\n",
            "\n",
            "[5 rows x 7 columns]\n",
            "['AddToPlaylist', 'BookRestaurant', 'GetWeather', 'PlayMusic', 'RateBook', 'SearchCreativeWork', 'SearchScreeningEvent']\n",
            "   AddToPlaylist  BookRestaurant  ...  SearchCreativeWork  SearchScreeningEvent\n",
            "0            1.0             0.0  ...                 0.0                   0.0\n",
            "1            0.0             1.0  ...                 0.0                   0.0\n",
            "2            1.0             0.0  ...                 0.0                   0.0\n",
            "3            0.0             0.0  ...                 0.0                   0.0\n",
            "4            0.0             0.0  ...                 0.0                   0.0\n",
            "\n",
            "[5 rows x 7 columns]\n",
            "downloading pretrained BERT model (uncased_L-12_H-768_A-12.zip)...\n",
            "[██████████████████████████████████████████████████]\n",
            "extracting pretrained BERT model...\n",
            "done.\n",
            "\n",
            "cleanup downloaded zip...\n",
            "done.\n",
            "\n",
            "preprocessing train...\n",
            "language: en\n"
          ],
          "name": "stdout"
        },
        {
          "output_type": "display_data",
          "data": {
            "text/html": [
              "done."
            ],
            "text/plain": [
              "<IPython.core.display.HTML object>"
            ]
          },
          "metadata": {
            "tags": []
          }
        },
        {
          "output_type": "stream",
          "text": [
            "Is Multi-Label? False\n",
            "preprocessing test...\n",
            "language: en\n"
          ],
          "name": "stdout"
        },
        {
          "output_type": "display_data",
          "data": {
            "text/html": [
              "done."
            ],
            "text/plain": [
              "<IPython.core.display.HTML object>"
            ]
          },
          "metadata": {
            "tags": []
          }
        }
      ]
    },
    {
      "cell_type": "code",
      "metadata": {
        "colab": {
          "base_uri": "https://localhost:8080/"
        },
        "id": "ei7f0iFxhgog",
        "outputId": "cf34d1f4-7148-4e92-bb2b-4b95f300c8a3"
      },
      "source": [
        "model = text.text_classifier(name = 'bert',\n",
        "                             train_data= (X_train, y_train),\n",
        "                             preproc= preprocess,metrics=['accuracy'])"
      ],
      "execution_count": 46,
      "outputs": [
        {
          "output_type": "stream",
          "text": [
            "Is Multi-Label? False\n",
            "maxlen is 64\n",
            "done.\n"
          ],
          "name": "stdout"
        }
      ]
    },
    {
      "cell_type": "code",
      "metadata": {
        "id": "bOfPnMC4hgr3"
      },
      "source": [
        "learner = ktrain.get_learner(model=model, train_data=(X_train, y_train),\n",
        "                   val_data = (X_test, y_test),\n",
        "                   batch_size = 64)"
      ],
      "execution_count": 47,
      "outputs": []
    },
    {
      "cell_type": "markdown",
      "metadata": {
        "id": "WyJug8KftMXo"
      },
      "source": [
        "### **Finding the Optimal Learning Rate**"
      ]
    },
    {
      "cell_type": "markdown",
      "metadata": {
        "id": "qKn1V1SYtS1G"
      },
      "source": [
        "**It might take few hours to complete this task**"
      ]
    },
    {
      "cell_type": "code",
      "metadata": {
        "id": "BnOp4us5tRKu"
      },
      "source": [
        "# learner.lr_find()\n",
        "# learner.lr_plot()"
      ],
      "execution_count": null,
      "outputs": []
    },
    {
      "cell_type": "code",
      "metadata": {
        "colab": {
          "base_uri": "https://localhost:8080/"
        },
        "id": "lIgBT426Cq4F",
        "outputId": "df4b9af4-a95e-443c-cdf4-0583be08747b"
      },
      "source": [
        "learner.fit_onecycle(lr = 2e-5, epochs=2)"
      ],
      "execution_count": 51,
      "outputs": [
        {
          "output_type": "stream",
          "text": [
            "\n",
            "\n",
            "begin training using onecycle policy with max lr of 2e-05...\n",
            "Epoch 1/2\n",
            "216/216 [==============================] - 212s 982ms/step - loss: 0.0259 - accuracy: 0.9937 - val_loss: 0.0925 - val_accuracy: 0.9743\n",
            "Epoch 2/2\n",
            "216/216 [==============================] - 217s 1s/step - loss: 0.0202 - accuracy: 0.9943 - val_loss: 0.0747 - val_accuracy: 0.9771\n"
          ],
          "name": "stdout"
        },
        {
          "output_type": "execute_result",
          "data": {
            "text/plain": [
              "<tensorflow.python.keras.callbacks.History at 0x7fe0b2049bd0>"
            ]
          },
          "metadata": {
            "tags": []
          },
          "execution_count": 51
        }
      ]
    },
    {
      "cell_type": "code",
      "metadata": {
        "id": "uOEkiXylCq6N"
      },
      "source": [
        "bert_predictor = ktrain.get_predictor(learner.model, preprocess)"
      ],
      "execution_count": 75,
      "outputs": []
    },
    {
      "cell_type": "code",
      "metadata": {
        "id": "d4ZEWwC1Cq9B"
      },
      "source": [
        "bert_predictor.save('/content/drive/My Drive/bert2')"
      ],
      "execution_count": 53,
      "outputs": []
    },
    {
      "cell_type": "code",
      "metadata": {
        "colab": {
          "base_uri": "https://localhost:8080/"
        },
        "id": "iIPc7FUwCq_X",
        "outputId": "d3487718-327c-400d-bc60-1b6d35146357"
      },
      "source": [
        "learner.validate(class_names=preprocess.get_classes())"
      ],
      "execution_count": 79,
      "outputs": [
        {
          "output_type": "stream",
          "text": [
            "                      precision    recall  f1-score   support\n",
            "\n",
            "       AddToPlaylist       0.99      0.99      0.99       124\n",
            "      BookRestaurant       0.98      1.00      0.99        92\n",
            "          GetWeather       1.00      0.98      0.99       104\n",
            "           PlayMusic       0.96      0.99      0.97        86\n",
            "            RateBook       1.00      1.00      1.00        80\n",
            "  SearchCreativeWork       0.92      0.97      0.95       107\n",
            "SearchScreeningEvent       1.00      0.92      0.96       107\n",
            "\n",
            "            accuracy                           0.98       700\n",
            "           macro avg       0.98      0.98      0.98       700\n",
            "        weighted avg       0.98      0.98      0.98       700\n",
            "\n"
          ],
          "name": "stdout"
        },
        {
          "output_type": "execute_result",
          "data": {
            "text/plain": [
              "array([[123,   0,   0,   1,   0,   0,   0],\n",
              "       [  0,  92,   0,   0,   0,   0,   0],\n",
              "       [  0,   2, 102,   0,   0,   0,   0],\n",
              "       [  1,   0,   0,  85,   0,   0,   0],\n",
              "       [  0,   0,   0,   0,  80,   0,   0],\n",
              "       [  0,   0,   0,   3,   0, 104,   0],\n",
              "       [  0,   0,   0,   0,   0,   9,  98]])"
            ]
          },
          "metadata": {
            "tags": []
          },
          "execution_count": 79
        }
      ]
    },
    {
      "cell_type": "code",
      "metadata": {
        "colab": {
          "base_uri": "https://localhost:8080/"
        },
        "id": "N49vLVqC3_oT",
        "outputId": "ac9fee81-772f-4c62-e7da-2f1caafb7954"
      },
      "source": [
        "bert_predictor.predict(new_data)"
      ],
      "execution_count": 81,
      "outputs": [
        {
          "output_type": "stream",
          "text": [
            "/usr/local/lib/python3.7/dist-packages/ktrain/text/preprocessor.py:215: UserWarning: List or array of two texts supplied, so task being treated as text classification. If this is a sentence pair classification task, please cast to tuple.\n",
            "  warnings.warn('List or array of two texts supplied, so task being treated as text classification. ' +\\\n"
          ],
          "name": "stderr"
        },
        {
          "output_type": "execute_result",
          "data": {
            "text/plain": [
              "['PlayMusic', 'RateBook']"
            ]
          },
          "metadata": {
            "tags": []
          },
          "execution_count": 81
        }
      ]
    },
    {
      "cell_type": "code",
      "metadata": {
        "id": "DAozOO013RH6"
      },
      "source": [
        "new_data = [\"Play our song now\",\n",
        "  \"Rate this book as awful\"]"
      ],
      "execution_count": 72,
      "outputs": []
    },
    {
      "cell_type": "code",
      "metadata": {
        "id": "BhHSvNIr3VEr"
      },
      "source": [
        "new_data1=[ \"I met a Dutch girl with inflatable shoes last week, phoned her up to arrange a date but unfortunately she'd popped her clogs.\",\n",
        "            \"So I said 'Do you want a game of Darts?' He said, 'OK then', I said nearest to bull starts'. He said, 'Baa', I said, 'Moo', he said, You're closest'.\",\n",
        "            \"The other day I sent my girlfriend a huge pile of snow. I rang her up; I said 'Did you get my drift?'\",\n",
        "              \"So I went down the local supermarket\"]"
      ],
      "execution_count": 87,
      "outputs": []
    },
    {
      "cell_type": "code",
      "metadata": {
        "colab": {
          "base_uri": "https://localhost:8080/"
        },
        "id": "iNSPKiG43VHS",
        "outputId": "a8c76fcf-afa2-4834-8066-d2a6cf709c0b"
      },
      "source": [
        "bert_predictor.predict(new_data1)"
      ],
      "execution_count": 88,
      "outputs": [
        {
          "output_type": "execute_result",
          "data": {
            "text/plain": [
              "['BookRestaurant',\n",
              " 'SearchCreativeWork',\n",
              " 'SearchCreativeWork',\n",
              " 'BookRestaurant']"
            ]
          },
          "metadata": {
            "tags": []
          },
          "execution_count": 88
        }
      ]
    },
    {
      "cell_type": "markdown",
      "metadata": {
        "id": "sCgJSZ9F0vb5"
      },
      "source": [
        "### **Conclussion**"
      ]
    },
    {
      "cell_type": "markdown",
      "metadata": {
        "id": "qUHQnqn_2C_D"
      },
      "source": [
        "### **Comparision of BERT vs ktrain**"
      ]
    },
    {
      "cell_type": "markdown",
      "metadata": {
        "id": "BcjZ-nSj02Ub"
      },
      "source": [
        "Here, **ktrain** is the free library for doing deep learning work quickly &  faster than the manual method. It will help to find the optimal learning rate very effectively. Further, Both accuracy is more or less the same."
      ]
    }
  ]
}